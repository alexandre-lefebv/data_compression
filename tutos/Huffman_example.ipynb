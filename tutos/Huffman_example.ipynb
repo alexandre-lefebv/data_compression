{
 "cells": [
  {
   "cell_type": "code",
   "execution_count": 2,
   "metadata": {},
   "outputs": [],
   "source": [
    "import numpy as np\n",
    "import matplotlib.pyplot as plt\n",
    "import sys\n",
    "import os\n",
    "\n",
    "sys.path.append(\"../\")\n",
    "\n",
    "from video   import height, width, read_qcif\n",
    "from Huffman import Huffman_encode, Huffman_decode\n",
    "from Difference_image import Difference_image_compute\n",
    "from tools import compression_benchmark\n",
    "\n",
    "# Format for qcif images\n",
    "width = 176\n",
    "height = 144"
   ]
  },
  {
   "cell_type": "code",
   "execution_count": 3,
   "metadata": {},
   "outputs": [],
   "source": [
    "frames = read_qcif(\"../videos/carphone.qcif\",2)\n",
    "\n",
    "nb_frames,frame_size = frames.shape\n",
    "\n",
    "data = np.zeros((nb_frames*frame_size),dtype=int)\n",
    "data[:frame_size] = frames[0]\n",
    "for k in range(1,nb_frames):\n",
    "    data[frame_size*k:frame_size*(k+1)] = frames[k]-frames[k-1]"
   ]
  },
  {
   "cell_type": "code",
   "execution_count": 3,
   "metadata": {},
   "outputs": [
    {
     "name": "stderr",
     "output_type": "stream",
     "text": [
      "Encoding: 100%|██████████| 76032/76032 [00:00<00:00, 958934.45it/s]\n",
      "Decoding: 100%|██████████| 487870/487870 [00:00<00:00, 1021541.90it/s]\n"
     ]
    }
   ],
   "source": [
    "bitstream = Huffman_encode(data)\n",
    "decompressed_data   = Huffman_decode(bitstream)"
   ]
  },
  {
   "cell_type": "markdown",
   "metadata": {},
   "source": [
    "# Check that Huffman worked"
   ]
  },
  {
   "cell_type": "code",
   "execution_count": 4,
   "metadata": {},
   "outputs": [
    {
     "data": {
      "text/plain": [
       "0.0"
      ]
     },
     "execution_count": 4,
     "metadata": {},
     "output_type": "execute_result"
    }
   ],
   "source": [
    "abs(data-np.array(decompressed_data,dtype=float)).sum()"
   ]
  },
  {
   "cell_type": "markdown",
   "metadata": {},
   "source": [
    "# Performances tests"
   ]
  },
  {
   "cell_type": "code",
   "execution_count": 4,
   "metadata": {},
   "outputs": [
    {
     "name": "stdout",
     "output_type": "stream",
     "text": [
      "['../videos/coastguard.qcif', '../videos/hall.qcif', '../videos/news.qcif', '../videos/akiyo.qcif', '../videos/carphone.qcif']\n"
     ]
    }
   ],
   "source": [
    "videos_names = []\n",
    "for fname in os.listdir(\"../videos\"):\n",
    "    if fname.endswith(\".qcif\"):\n",
    "        videos_names.append(\"../videos/\"+fname)\n",
    "print(videos_names)"
   ]
  },
  {
   "cell_type": "code",
   "execution_count": 6,
   "metadata": {
    "collapsed": true,
    "jupyter": {
     "outputs_hidden": true
    }
   },
   "outputs": [
    {
     "name": "stdout",
     "output_type": "stream",
     "text": [
      "#############################################################################################\n",
      "Huffman on ../videos/coastguard.qcif\n"
     ]
    },
    {
     "name": "stderr",
     "output_type": "stream",
     "text": [
      "Encoding: 100%|██████████| 11404800/11404800 [00:09<00:00, 1168106.24it/s]\n"
     ]
    },
    {
     "name": "stdout",
     "output_type": "stream",
     "text": [
      "B/symb:  6.900131085157127\n",
      "Original size (MiB):  10.87646484375\n",
      "Compressed size (%):  86.25163856446409\n",
      "#--------------------------------------#\n",
      "Diff+Huffman on ../videos/coastguard.qcif\n"
     ]
    },
    {
     "name": "stderr",
     "output_type": "stream",
     "text": [
      "Encoding: 100%|██████████| 11404800/11404800 [00:09<00:00, 1180496.78it/s]\n"
     ]
    },
    {
     "name": "stdout",
     "output_type": "stream",
     "text": [
      "B/symb:  4.517092627665544\n",
      "Original size (MiB):  10.87646484375\n",
      "Compressed size (%):  56.463657845819306\n",
      "#############################################################################################\n",
      "Huffman on ../videos/hall.qcif\n"
     ]
    },
    {
     "name": "stderr",
     "output_type": "stream",
     "text": [
      "Encoding: 100%|██████████| 11404800/11404800 [00:09<00:00, 1216724.48it/s]\n"
     ]
    },
    {
     "name": "stdout",
     "output_type": "stream",
     "text": [
      "B/symb:  6.948109655583614\n",
      "Original size (MiB):  10.87646484375\n",
      "Compressed size (%):  86.85137069479516\n",
      "#--------------------------------------#\n",
      "Diff+Huffman on ../videos/hall.qcif\n"
     ]
    },
    {
     "name": "stderr",
     "output_type": "stream",
     "text": [
      "Encoding: 100%|██████████| 11404800/11404800 [00:09<00:00, 1258836.58it/s]\n"
     ]
    },
    {
     "name": "stdout",
     "output_type": "stream",
     "text": [
      "B/symb:  3.32935746352413\n",
      "Original size (MiB):  10.87646484375\n",
      "Compressed size (%):  41.616968294051624\n",
      "#############################################################################################\n",
      "Huffman on ../videos/news.qcif\n"
     ]
    },
    {
     "name": "stderr",
     "output_type": "stream",
     "text": [
      "Encoding: 100%|██████████| 11404800/11404800 [00:08<00:00, 1277533.95it/s]\n"
     ]
    },
    {
     "name": "stdout",
     "output_type": "stream",
     "text": [
      "B/symb:  7.032959718714927\n",
      "Original size (MiB):  10.87646484375\n",
      "Compressed size (%):  87.91199648393658\n",
      "#--------------------------------------#\n",
      "Diff+Huffman on ../videos/news.qcif\n"
     ]
    },
    {
     "name": "stderr",
     "output_type": "stream",
     "text": [
      "Encoding: 100%|██████████| 11404800/11404800 [00:08<00:00, 1271204.78it/s]\n"
     ]
    },
    {
     "name": "stdout",
     "output_type": "stream",
     "text": [
      "B/symb:  2.189780180274972\n",
      "Original size (MiB):  10.87646484375\n",
      "Compressed size (%):  27.37225225343715\n",
      "#############################################################################################\n",
      "Huffman on ../videos/akiyo.qcif\n"
     ]
    },
    {
     "name": "stderr",
     "output_type": "stream",
     "text": [
      "Encoding: 100%|██████████| 11404800/11404800 [00:11<00:00, 992694.40it/s]\n"
     ]
    },
    {
     "name": "stdout",
     "output_type": "stream",
     "text": [
      "B/symb:  7.137040982744108\n",
      "Original size (MiB):  10.87646484375\n",
      "Compressed size (%):  89.21301228430136\n",
      "#--------------------------------------#\n",
      "Diff+Huffman on ../videos/akiyo.qcif\n"
     ]
    },
    {
     "name": "stderr",
     "output_type": "stream",
     "text": [
      "Encoding: 100%|██████████| 11404800/11404800 [00:09<00:00, 1251689.37it/s]\n"
     ]
    },
    {
     "name": "stdout",
     "output_type": "stream",
     "text": [
      "B/symb:  1.6262406179854096\n",
      "Original size (MiB):  10.87646484375\n",
      "Compressed size (%):  20.32800772481762\n",
      "#############################################################################################\n",
      "Huffman on ../videos/carphone.qcif\n"
     ]
    },
    {
     "name": "stderr",
     "output_type": "stream",
     "text": [
      "Encoding: 100%|██████████| 14522112/14522112 [00:14<00:00, 971766.12it/s] \n"
     ]
    },
    {
     "name": "stdout",
     "output_type": "stream",
     "text": [
      "B/symb:  7.057345446722901\n",
      "Original size (MiB):  13.849365234375\n",
      "Compressed size (%):  88.21681808403626\n",
      "#--------------------------------------#\n",
      "Diff+Huffman on ../videos/carphone.qcif\n"
     ]
    },
    {
     "name": "stderr",
     "output_type": "stream",
     "text": [
      "Encoding: 100%|██████████| 14522112/14522112 [00:12<00:00, 1161454.79it/s]"
     ]
    },
    {
     "name": "stdout",
     "output_type": "stream",
     "text": [
      "B/symb:  3.8995818239110123\n",
      "Original size (MiB):  13.849365234375\n",
      "Compressed size (%):  48.74477279888765\n"
     ]
    },
    {
     "name": "stderr",
     "output_type": "stream",
     "text": [
      "\n"
     ]
    }
   ],
   "source": [
    "for fname in videos_names:\n",
    "    frames = read_qcif(fname)\n",
    "    nb_frames = len(frames)\n",
    "\n",
    "    print(\"#############################################################################################\")\n",
    "    print(\"Huffman on \"+fname)\n",
    "    bitstream = Huffman_encode(frames.flatten())\n",
    "    compression_benchmark(frames,bitstream)\n",
    "    print(\"#--------------------------------------#\")\n",
    "    print(\"Diff+Huffman on \"+fname)    \n",
    "    diff = Difference_image_compute(frames)\n",
    "    bitstream = Huffman_encode(diff.flatten())\n",
    "    compression_benchmark(frames,bitstream)"
   ]
  },
  {
   "cell_type": "code",
   "execution_count": 6,
   "metadata": {},
   "outputs": [
    {
     "name": "stdout",
     "output_type": "stream",
     "text": [
      "#############################################################################################\n",
      "Huffman on ../videos/coastguard.qcif\n"
     ]
    },
    {
     "name": "stderr",
     "output_type": "stream",
     "text": [
      "Encoding: 100%|██████████| 11404800/11404800 [00:08<00:00, 1293226.97it/s]\n"
     ]
    },
    {
     "name": "stdout",
     "output_type": "stream",
     "text": [
      "#--------------------------------------#\n",
      "Diff+Huffman on ../videos/coastguard.qcif\n"
     ]
    },
    {
     "name": "stderr",
     "output_type": "stream",
     "text": [
      "Encoding: 100%|██████████| 11404800/11404800 [00:10<00:00, 1050738.85it/s]\n"
     ]
    },
    {
     "data": {
      "image/png": "[encoded data removed]",
      "text/plain": [
       "<Figure size 432x288 with 1 Axes>"
      ]
     },
     "metadata": {
      "needs_background": "light"
     },
     "output_type": "display_data"
    },
    {
     "name": "stdout",
     "output_type": "stream",
     "text": [
      "#############################################################################################\n",
      "Huffman on ../videos/hall.qcif\n"
     ]
    },
    {
     "name": "stderr",
     "output_type": "stream",
     "text": [
      "Encoding: 100%|██████████| 11404800/11404800 [00:09<00:00, 1188608.88it/s]\n"
     ]
    },
    {
     "name": "stdout",
     "output_type": "stream",
     "text": [
      "#--------------------------------------#\n",
      "Diff+Huffman on ../videos/hall.qcif\n"
     ]
    },
    {
     "name": "stderr",
     "output_type": "stream",
     "text": [
      "Encoding: 100%|██████████| 11404800/11404800 [00:09<00:00, 1248933.40it/s]\n"
     ]
    },
    {
     "data": {
      "image/png": "[encoded data removed]",
      "text/plain": [
       "<Figure size 432x288 with 1 Axes>"
      ]
     },
     "metadata": {
      "needs_background": "light"
     },
     "output_type": "display_data"
    },
    {
     "name": "stdout",
     "output_type": "stream",
     "text": [
      "#############################################################################################\n",
      "Huffman on ../videos/news.qcif\n"
     ]
    },
    {
     "name": "stderr",
     "output_type": "stream",
     "text": [
      "Encoding: 100%|██████████| 11404800/11404800 [00:08<00:00, 1307220.86it/s]\n"
     ]
    },
    {
     "name": "stdout",
     "output_type": "stream",
     "text": [
      "#--------------------------------------#\n",
      "Diff+Huffman on ../videos/news.qcif\n"
     ]
    },
    {
     "name": "stderr",
     "output_type": "stream",
     "text": [
      "Encoding: 100%|██████████| 11404800/11404800 [00:09<00:00, 1237884.63it/s]\n"
     ]
    },
    {
     "data": {
      "image/png": "[encoded data removed]",
      "text/plain": [
       "<Figure size 432x288 with 1 Axes>"
      ]
     },
     "metadata": {
      "needs_background": "light"
     },
     "output_type": "display_data"
    },
    {
     "name": "stdout",
     "output_type": "stream",
     "text": [
      "#############################################################################################\n",
      "Huffman on ../videos/akiyo.qcif\n"
     ]
    },
    {
     "name": "stderr",
     "output_type": "stream",
     "text": [
      "Encoding: 100%|██████████| 11404800/11404800 [00:08<00:00, 1302794.89it/s]\n"
     ]
    },
    {
     "name": "stdout",
     "output_type": "stream",
     "text": [
      "#--------------------------------------#\n",
      "Diff+Huffman on ../videos/akiyo.qcif\n"
     ]
    },
    {
     "name": "stderr",
     "output_type": "stream",
     "text": [
      "Encoding: 100%|██████████| 11404800/11404800 [00:08<00:00, 1319521.46it/s]\n"
     ]
    },
    {
     "data": {
      "image/png": "[encoded data removed]",
      "text/plain": [
       "<Figure size 432x288 with 1 Axes>"
      ]
     },
     "metadata": {
      "needs_background": "light"
     },
     "output_type": "display_data"
    },
    {
     "name": "stdout",
     "output_type": "stream",
     "text": [
      "#############################################################################################\n",
      "Huffman on ../videos/carphone.qcif\n"
     ]
    },
    {
     "name": "stderr",
     "output_type": "stream",
     "text": [
      "Encoding: 100%|██████████| 14522112/14522112 [00:11<00:00, 1229062.28it/s]\n"
     ]
    },
    {
     "name": "stdout",
     "output_type": "stream",
     "text": [
      "#--------------------------------------#\n",
      "Diff+Huffman on ../videos/carphone.qcif\n"
     ]
    },
    {
     "name": "stderr",
     "output_type": "stream",
     "text": [
      "Encoding: 100%|██████████| 14522112/14522112 [00:11<00:00, 1229473.09it/s]\n"
     ]
    },
    {
     "data": {
      "image/png": "[encoded data removed]",
      "text/plain": [
       "<Figure size 432x288 with 1 Axes>"
      ]
     },
     "metadata": {
      "needs_background": "light"
     },
     "output_type": "display_data"
    }
   ],
   "source": [
    "for fname in videos_names:\n",
    "    frames = read_qcif(fname)\n",
    "    nb_frames = len(frames)\n",
    "    plt.figure()\n",
    "    print(\"#############################################################################################\")\n",
    "    print(\"Huffman on \"+fname)\n",
    "    bitstream = Huffman_encode(frames.flatten())\n",
    "    print(\"#--------------------------------------#\")\n",
    "    print(\"Diff+Huffman on \"+fname)    \n",
    "    diff = Difference_image_compute(frames)\n",
    "    bitstream = Huffman_encode(diff.flatten())\n",
    "    plt.xlabel(\"Frame\")\n",
    "    plt.ylabel(\"Bps\")\n",
    "    plt.legend([\"Without diff\",\"With diff\"])\n",
    "    plt.show()"
   ]
  },
  {
   "cell_type": "code",
   "execution_count": null,
   "metadata": {},
   "outputs": [],
   "source": []
  }
 ],
 "metadata": {
  "kernelspec": {
   "display_name": "Python 3",
   "language": "python",
   "name": "python3"
  },
  "language_info": {
   "codemirror_mode": {
    "name": "ipython",
    "version": 3
   },
   "file_extension": ".py",
   "mimetype": "text/x-python",
   "name": "python",
   "nbconvert_exporter": "python",
   "pygments_lexer": "ipython3",
   "version": "3.7.9"
  }
 },
 "nbformat": 4,
 "nbformat_minor": 4
}
