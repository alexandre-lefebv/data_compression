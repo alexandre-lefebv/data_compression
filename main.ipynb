{
 "cells": [
  {
   "cell_type": "code",
   "execution_count": 3,
   "metadata": {},
   "outputs": [
    {
     "name": "stdout",
     "output_type": "stream",
     "text": [
      "['./videos/coastguard.qcif', './videos/hall.qcif', './videos/news.qcif', './videos/akiyo.qcif', './videos/carphone.qcif']\n"
     ]
    }
   ],
   "source": [
    "import os\n",
    "import sys\n",
    "import numpy as np\n",
    "import matplotlib.pyplot as plt\n",
    "from tqdm import trange\n",
    "\n",
    "from video      import read_qcif, save_qcif, height, width\n",
    "from tools      import benchmark\n",
    "from Difference_image import Difference_image_compute, Difference_image_reverse\n",
    "from LZW        import LZW_encode, LZW_decode\n",
    "from Huffman    import Huffman_encode, Huffman_decode\n",
    "from DCT        import DCT_compute, DCT_inverse\n",
    "\n",
    "\n",
    "# Format for qcif images\n",
    "width = 176\n",
    "height = 144\n",
    "frame_size = width*height + 2*width//2*height//2\n",
    "\n",
    "videos_names = []\n",
    "for fname in os.listdir(\"./videos\"):\n",
    "    if fname.endswith(\".qcif\"):\n",
    "        videos_names.append(\"./videos/\"+fname)\n",
    "print(videos_names)"
   ]
  },
  {
   "cell_type": "code",
   "execution_count": 4,
   "metadata": {},
   "outputs": [
    {
     "name": "stdout",
     "output_type": "stream",
     "text": [
      "\n",
      "#--------------------------------------#\n",
      "Diff on ./videos/coastguard.qcif\n",
      "MSE:  0.0\n",
      "Original size (MiB):  10.87646484375\n",
      "\n",
      "#--------------------------------------#\n",
      "Diff+LZW on ./videos/coastguard.qcif\n"
     ]
    },
    {
     "name": "stderr",
     "output_type": "stream",
     "text": [
      "Building the dictionary: 100%|██████████| 11404799/11404799 [00:22<00:00, 512157.75it/s]\n",
      "Encoding: 100%|██████████| 2472693/2472693 [00:02<00:00, 1110449.12it/s]\n",
      "Decoding: 100%|██████████| 2472692/2472692 [00:12<00:00, 204663.47it/s]\n"
     ]
    },
    {
     "name": "stdout",
     "output_type": "stream",
     "text": [
      "B/symb:  4.769857603815937\n",
      "Original size (MiB):  10.87646484375\n",
      "Compressed size (%):  59.62322004769921\n",
      "\n",
      "#--------------------------------------#\n",
      "Diff+Huffman on ./videos/coastguard.qcif\n"
     ]
    },
    {
     "name": "stderr",
     "output_type": "stream",
     "text": [
      "Encoding: 100%|██████████| 11404800/11404800 [00:07<00:00, 1497673.76it/s]\n",
      "Decoding: 100%|██████████| 51512688/51512688 [00:46<00:00, 1116043.67it/s]\n"
     ]
    },
    {
     "name": "stdout",
     "output_type": "stream",
     "text": [
      "B/symb:  4.517092627665544\n",
      "Original size (MiB):  10.87646484375\n",
      "Compressed size (%):  56.463657845819306\n",
      "\n",
      "\n",
      "\n"
     ]
    }
   ],
   "source": [
    "for fname in videos_names[0:1]:\n",
    "    frames = read_qcif(fname)\n",
    "    nb_frames = len(frames)\n",
    "    \n",
    "    diff = Difference_image_compute(frames)\n",
    "    decompressed_data = Difference_image_reverse(diff)\n",
    "    print()\n",
    "    print(\"#--------------------------------------#\")\n",
    "    print(\"Diff on \"+fname)\n",
    "    print(\"MSE: \", np.mean(abs(frames-decompressed_data)))\n",
    "    print(\"Original size (MiB): \", frames.size/1024**2)\n",
    "    print()\n",
    "    print(\"#--------------------------------------#\")\n",
    "    print(\"Diff+LZW on \"+fname)\n",
    "    bitstream = LZW_encode(diff.flatten())\n",
    "    decompressed_diff = LZW_decode(bitstream)\n",
    "    decompressed_data = Difference_image_reverse(np.array(decompressed_diff,dtype=float).reshape(nb_frames,-1))\n",
    "    benchmark(frames,bitstream)\n",
    "    print()\n",
    "    print(\"#--------------------------------------#\")\n",
    "    print(\"Diff+Huffman on \"+fname)\n",
    "    bitstream = Huffman_encode(diff.flatten())\n",
    "    decompressed_diff = Huffman_decode(bitstream)\n",
    "    decompressed_data = Difference_image_reverse(np.array(decompressed_diff,dtype=float).reshape(nb_frames,-1))\n",
    "    benchmark(frames,bitstream)\n",
    "    print(\"\\n\\n\")"
   ]
  },
  {
   "cell_type": "code",
   "execution_count": 3,
   "metadata": {},
   "outputs": [
    {
     "name": "stderr",
     "output_type": "stream",
     "text": [
      "DCT: 100%|██████████| 300/300 [02:13<00:00,  2.25it/s]\n"
     ]
    },
    {
     "name": "stdout",
     "output_type": "stream",
     "text": [
      "DCT: optimal Q as been set to  22.698961937716263 % of the psychovisual matrices values. \n",
      "[array([30])]\n"
     ]
    },
    {
     "name": "stderr",
     "output_type": "stream",
     "text": [
      "100%|██████████| 7196335/7196335 [04:34<00:00, 26224.27it/s]\n",
      "Building the dictionary:   0%|          | 0/7196334 [00:00<?, ?it/s]"
     ]
    },
    {
     "name": "stdout",
     "output_type": "stream",
     "text": [
      "\n",
      "#--------------------------------------#\n",
      "DCT+quantization+runlength on ./videos/coastguard.qcif\n",
      "MSE:  1.909783687570146\n",
      "Original size (MiB):  10.87646484375\n",
      "Compressed size (%):  63.099177539281705\n",
      "\n",
      "#--------------------------------------#\n",
      "DCT+quantization+runlength+Huffman on ./videos/coastguard.qcif\n"
     ]
    },
    {
     "name": "stderr",
     "output_type": "stream",
     "text": [
      "Building the dictionary: 100%|██████████| 7196334/7196334 [00:13<00:00, 537428.65it/s]\n",
      "Encoding: 100%|██████████| 1263000/1263000 [00:01<00:00, 1196499.80it/s]\n",
      "Decoding: 100%|██████████| 1262999/1262999 [00:05<00:00, 212850.27it/s]\n",
      "100%|██████████| 7196335/7196335 [04:33<00:00, 26332.20it/s]\n"
     ]
    },
    {
     "name": "stdout",
     "output_type": "stream",
     "text": [
      "B/symb:  2.3256020272166107\n",
      "Original size (MiB):  10.87646484375\n",
      "Compressed size (%):  29.070025340207632\n",
      "\n",
      "#--------------------------------------#\n",
      "DCT+quantization+runlength+Huffman on ./videos/coastguard.qcif\n"
     ]
    },
    {
     "name": "stderr",
     "output_type": "stream",
     "text": [
      "Encoding: 100%|██████████| 7196335/7196335 [00:04<00:00, 1587736.48it/s]\n",
      "Decoding: 100%|██████████| 27915574/27915574 [00:25<00:00, 1104806.56it/s]\n",
      "100%|██████████| 7196335/7196335 [04:32<00:00, 26378.57it/s]\n"
     ]
    },
    {
     "name": "stdout",
     "output_type": "stream",
     "text": [
      "B/symb:  2.4480457351290683\n",
      "Original size (MiB):  10.87646484375\n",
      "Compressed size (%):  30.600571689113355\n",
      "\n",
      "\n",
      "\n"
     ]
    }
   ],
   "source": [
    "for fname in videos_names[0:1]:\n",
    "    frames = read_qcif(fname)\n",
    "    nb_frames = len(frames)\n",
    "    \n",
    "    dct = DCT_compute(frames,Q='opti')\n",
    "    decompressed_data = DCT_inverse(dct)\n",
    "    print()\n",
    "    print(\"#--------------------------------------#\")\n",
    "    print(\"DCT+quantization+runlength on \"+fname)\n",
    "    print(\"MSE: \", np.mean(abs(frames-decompressed_data)))\n",
    "    print(\"Original size (MiB): \", frames.size/1024**2)\n",
    "    print(\"Compressed size (%): \", dct.size/frames.size*100)\n",
    "    print()\n",
    "    print(\"#--------------------------------------#\")\n",
    "    print(\"DCT+quantization+runlength+Huffman on \"+fname)\n",
    "    bitstream = LZW_encode(np.array(dct.flatten()))\n",
    "    decompressed_dct  = LZW_decode(bitstream)\n",
    "    decompressed_data = DCT_inverse(decompressed_dct).reshape(nb_frames,-1)\n",
    "    benchmark(frames,bitstream)\n",
    "    print()\n",
    "    print(\"#--------------------------------------#\")\n",
    "    print(\"DCT+quantization+runlength+Huffman on \"+fname)\n",
    "    bitstream = Huffman_encode(np.array(dct.flatten()))\n",
    "    decompressed_dct = Huffman_decode(bitstream)\n",
    "    decompressed_data = DCT_inverse(decompressed_dct).reshape(nb_frames,-1)\n",
    "    benchmark(frames,bitstream)\n",
    "    print(\"\\n\\n\")"
   ]
  },
  {
   "cell_type": "code",
   "execution_count": 5,
   "metadata": {},
   "outputs": [
    {
     "name": "stderr",
     "output_type": "stream",
     "text": [
      "DCT: 100%|██████████| 300/300 [02:17<00:00,  2.18it/s]\n"
     ]
    },
    {
     "name": "stdout",
     "output_type": "stream",
     "text": [
      "DCT: optimal Q as been set to  146.159169550173 % of the psychovisual matrices values. \n"
     ]
    },
    {
     "name": "stderr",
     "output_type": "stream",
     "text": [
      "DCT inverse: 100%|██████████| 1524633/1524633 [04:27<00:00, 5695.65it/s]\n"
     ]
    },
    {
     "name": "stdout",
     "output_type": "stream",
     "text": [
      "86\n",
      "4.0892219065656565\n",
      "-223\n",
      "\n",
      "#--------------------------------------#\n",
      "Diff+DCT+quantization+runlength on ./videos/coastguard.qcif\n"
     ]
    },
    {
     "name": "stderr",
     "output_type": "stream",
     "text": [
      "Building the dictionary:   4%|▎         | 56627/1524632 [00:00<00:02, 566223.29it/s]"
     ]
    },
    {
     "name": "stdout",
     "output_type": "stream",
     "text": [
      "MSE:  79.57942918771043\n",
      "Original size (MiB):  10.87646484375\n",
      "Compressed size (%):  13.368344907407407\n",
      "\n",
      "#--------------------------------------#\n",
      "Diff+DCT+quantization+runlength+Huffman on ./videos/coastguard.qcif\n"
     ]
    },
    {
     "name": "stderr",
     "output_type": "stream",
     "text": [
      "Building the dictionary: 100%|██████████| 1524632/1524632 [00:03<00:00, 478689.51it/s]\n",
      "Encoding: 100%|██████████| 196842/196842 [00:00<00:00, 1249877.28it/s]\n",
      "Decoding: 100%|██████████| 196841/196841 [00:00<00:00, 256962.50it/s]\n",
      "DCT inverse: 100%|██████████| 1524633/1524633 [04:26<00:00, 5722.73it/s]\n"
     ]
    },
    {
     "name": "stdout",
     "output_type": "stream",
     "text": [
      "B/symb:  0.31067462822671155\n",
      "Original size (MiB):  10.87646484375\n",
      "Compressed size (%):  3.883432852833894\n",
      "\n",
      "#--------------------------------------#\n",
      "Diff+DCT+quantization+runlength+Huffman on ./videos/coastguard.qcif\n",
      "\n",
      "\n",
      "\n"
     ]
    }
   ],
   "source": [
    "for fname in videos_names[0:1]:\n",
    "    frames = read_qcif(fname)\n",
    "    nb_frames = len(frames)\n",
    "    \n",
    "    diff = Difference_image_compute(frames)\n",
    "    dct = DCT_compute(diff,Q='opti')\n",
    "    decompressed_diff = DCT_inverse(dct)\n",
    "    decompressed_data = Difference_image_reverse(decompressed_diff)\n",
    "    print((diff-decompressed_diff).max())\n",
    "    print(abs(diff-decompressed_diff).mean())\n",
    "    print((diff-decompressed_diff).min())\n",
    "    print()\n",
    "    print(\"#--------------------------------------#\")\n",
    "    print(\"Diff+DCT+quantization+runlength on \"+fname)\n",
    "    print(\"MSE: \", np.mean(abs(frames-decompressed_data)))\n",
    "    print(\"Original size (MiB): \", frames.size/1024**2)\n",
    "    print(\"Compressed size (%): \", dct.size/frames.size*100)\n",
    "    print()\n",
    "    print(\"#--------------------------------------#\")\n",
    "    print(\"Diff+DCT+quantization+runlength+Huffman on \"+fname)\n",
    "    bitstream = LZW_encode(np.array(dct.flatten()))\n",
    "    decompressed_dct  = LZW_decode(bitstream)\n",
    "    decompressed_diff = DCT_inverse(decompressed_dct).reshape(nb_frames,-1)\n",
    "    decompressed_data = Difference_image_reverse(decompressed_diff)\n",
    "    benchmark(frames,bitstream)\n",
    "    print()\n",
    "    print(\"#--------------------------------------#\")\n",
    "    print(\"Diff+DCT+quantization+runlength+Huffman on \"+fname)\n",
    "    #bitstream = Huffman_encode(np.array(dct.flatten()))\n",
    "    #decompressed_dct = Huffman_decode(bitstream)\n",
    "    #decompressed_diff = DCT_inverse(decompressed_dct).reshape(nb_frames,-1)\n",
    "    #decompressed_data = Difference_image_reverse(decompressed_diff)\n",
    "    #benchmark(frames,bitstream)\n",
    "    print(\"\\n\\n\")"
   ]
  },
  {
   "cell_type": "code",
   "execution_count": 5,
   "metadata": {},
   "outputs": [],
   "source": [
    "if False:\n",
    "    image_id = 2 # Random image from the video\n",
    "    sep1 = height*width\n",
    "    sep2 = sep1+height//2*width//2\n",
    "\n",
    "\n",
    "    original_img     = frames[image_id][:sep1].reshape(height,width)\n",
    "    decompressed_img = decompressed_data[image_id,:sep1].reshape(height,width)\n",
    "\n",
    "    plt.figure(figsize=(20,10))\n",
    "    plt.subplot(1,2,1)\n",
    "    plt.imshow(original_img)\n",
    "    plt.colorbar()\n",
    "    plt.title(\"Original\")\n",
    "    plt.subplot(1,2,2)\n",
    "    plt.imshow(decompressed_img)\n",
    "    plt.colorbar()\n",
    "    plt.title(\"Comp/decomp image\")\n",
    "    plt.show()\n",
    "\n",
    "    original_img     = frames[image_id][sep1:sep2].reshape(height//2,width//2)\n",
    "    decompressed_img = decompressed_data[image_id,sep1:sep2].reshape(height//2,width//2)\n",
    "\n",
    "    plt.figure(figsize=(20,10))\n",
    "    plt.subplot(1,2,1)\n",
    "    plt.imshow(original_img)\n",
    "    plt.colorbar()\n",
    "    plt.title(\"Original\")\n",
    "    plt.subplot(1,2,2)\n",
    "    plt.imshow(decompressed_img)\n",
    "    plt.colorbar()\n",
    "    plt.title(\"Comp/decomp image\")\n",
    "    plt.show()\n",
    "\n",
    "    original_img     = frames[image_id][sep2:].reshape(height//2,width//2)\n",
    "    decompressed_img = decompressed_data[image_id,sep2:].reshape(height//2,width//2)\n",
    "\n",
    "    plt.figure(figsize=(20,10))\n",
    "    plt.subplot(1,2,1)\n",
    "    plt.imshow(original_img)\n",
    "    plt.colorbar()\n",
    "    plt.title(\"Original\")\n",
    "    plt.subplot(1,2,2)\n",
    "    plt.imshow(decompressed_img)\n",
    "    plt.colorbar()\n",
    "    plt.title(\"Comp/decomp image\")\n",
    "    plt.show()"
   ]
  },
  {
   "cell_type": "code",
   "execution_count": 7,
   "metadata": {},
   "outputs": [
    {
     "name": "stdout",
     "output_type": "stream",
     "text": [
      "0 255\n"
     ]
    }
   ],
   "source": [
    "save_qcif(\"test_res.qcif\",decompressed_data)"
   ]
  },
  {
   "cell_type": "code",
   "execution_count": null,
   "metadata": {},
   "outputs": [],
   "source": []
  },
  {
   "cell_type": "code",
   "execution_count": null,
   "metadata": {},
   "outputs": [],
   "source": []
  }
 ],
 "metadata": {
  "kernelspec": {
   "display_name": "Python 3",
   "language": "python",
   "name": "python3"
  },
  "language_info": {
   "codemirror_mode": {
    "name": "ipython",
    "version": 3
   },
   "file_extension": ".py",
   "mimetype": "text/x-python",
   "name": "python",
   "nbconvert_exporter": "python",
   "pygments_lexer": "ipython3",
   "version": "3.7.9"
  }
 },
 "nbformat": 4,
 "nbformat_minor": 4
}
