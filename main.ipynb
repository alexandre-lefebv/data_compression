{
 "cells": [
  {
   "cell_type": "code",
   "execution_count": 1,
   "metadata": {},
   "outputs": [
    {
     "name": "stdout",
     "output_type": "stream",
     "text": [
      "['./videos/coastguard.qcif', './videos/hall.qcif', './videos/news.qcif', './videos/akiyo.qcif', './videos/carphone.qcif']\n"
     ]
    }
   ],
   "source": [
    "import os\n",
    "import sys\n",
    "import numpy as np\n",
    "import matplotlib.pyplot as plt\n",
    "from tqdm import trange\n",
    "\n",
    "from video      import read_qcif, save_qcif, height, width\n",
    "from tools      import compression_benchmark, quality_benchmark\n",
    "from Difference_image import Difference_image_compute, Difference_image_reverse\n",
    "from LZW        import LZW_encode, LZW_decode\n",
    "from Huffman    import Huffman_encode, Huffman_decode\n",
    "from DCT        import DCT_compute, DCT_inverse\n",
    "from Motion_estimation import Motion_estimate_compute, Motion_estimate_inverse\n",
    "\n",
    "\n",
    "# Format for qcif images\n",
    "width = 176\n",
    "height = 144\n",
    "frame_size = width*height + 2*width//2*height//2\n",
    "\n",
    "videos_names = []\n",
    "for fname in os.listdir(\"./videos\"):\n",
    "    if fname.endswith(\".qcif\"):\n",
    "        videos_names.append(\"./videos/\"+fname)\n",
    "print(videos_names)"
   ]
  },
  {
   "cell_type": "markdown",
   "metadata": {},
   "source": [
    "# Compression using the difference image and entropic coding"
   ]
  },
  {
   "cell_type": "code",
   "execution_count": null,
   "metadata": {
    "jupyter": {
     "source_hidden": true
    }
   },
   "outputs": [],
   "source": [
    "for fname in videos_names[1:2]:\n",
    "    frames = read_qcif(fname)\n",
    "    nb_frames = len(frames)\n",
    "    \n",
    "    diff = Difference_image_compute(frames, 5)\n",
    "    decompressed_data = Difference_image_reverse(diff,5)\n",
    "    save_qcif(\"test_res_diff.qcif\",decompressed_data)\n",
    "    print()\n",
    "    print(\"#--------------------------------------#\")\n",
    "    print(\"Diff on \"+fname)\n",
    "    quality_benchmark(frames,decompressed_data)\n",
    "    print()\n",
    "    print(\"#--------------------------------------#\")\n",
    "    print(\"Diff+LZW on \"+fname)\n",
    "    bitstream = LZW_encode(diff.flatten())\n",
    "    decompressed_diff = LZW_decode(bitstream)\n",
    "    decompressed_data = Difference_image_reverse(np.array(decompressed_diff,dtype=float).reshape(nb_frames,-1),5)\n",
    "    compression_benchmark(frames,bitstream)\n",
    "    print()\n",
    "    print(\"#--------------------------------------#\")\n",
    "    print(\"Diff+Huffman on \"+fname)\n",
    "    bitstream = Huffman_encode(diff.flatten())\n",
    "    decompressed_diff = Huffman_decode(bitstream)\n",
    "    decompressed_data = Difference_image_reverse(np.array(decompressed_diff,dtype=float).reshape(nb_frames,-1),5)\n",
    "    compression_benchmark(frames,bitstream)\n",
    "    print(\"\\n\\n\")"
   ]
  },
  {
   "cell_type": "markdown",
   "metadata": {},
   "source": [
    "# Compression using the DCT, quantization with psychovisal, matrices runlength and entropic coding"
   ]
  },
  {
   "cell_type": "code",
   "execution_count": null,
   "metadata": {
    "jupyter": {
     "source_hidden": true
    }
   },
   "outputs": [],
   "source": [
    "for fname in videos_names[0:1]:\n",
    "    frames = re-+ad_qcif(fname)\n",
    "    nb_frames = len(frames)\n",
    "    \n",
    "    dct = DCT_compute(frames,Q='opti',offset=128)\n",
    "    decompressed_data = DCT_inverse(dct,offset=128)\n",
    "    save_qcif(\"test_res_dct.qcif\",decompressed_data)\n",
    "    print()\n",
    "    print(\"#--------------------------------------#\")\n",
    "    print(\"DCT+quantization+runlength on \"+fname)\n",
    "    print(\"Original size (MiB): \", frames.size/1024**2)\n",
    "    print(\"Compressed size (%): \", dct.size/frames.size*100)\n",
    "    quality_benchmark(frames,decompressed_data)\n",
    "    print()\n",
    "    print(\"#--------------------------------------#\")\n",
    "    print(\"DCT+quantization+runlength+LZW on \"+fname)\n",
    "    bitstream = LZW_encode(np.array(dct.flatten()))\n",
    "    decompressed_dct  = LZW_decode(bitstream)\n",
    "    decompressed_data = DCT_inverse(decompressed_dct,offset=128).reshape(nb_frames,-1)\n",
    "    compression_benchmark(frames,bitstream)\n",
    "    print()\n",
    "    print(\"#--------------------------------------#\")\n",
    "    print(\"DCT+quantization+runlength+Huffman on \"+fname)\n",
    "    bitstream = Huffman_encode(np.array(dct.flatten()))\n",
    "    decompressed_dct = Huffman_decode(bitstream)\n",
    "    decompressed_data = DCT_inverse(decompressed_dct,offset=128).reshape(nb_frames,-1)\n",
    "    compression_benchmark(frames,bitstream)\n",
    "    print(\"\\n\\n\")"
   ]
  },
  {
   "cell_type": "markdown",
   "metadata": {},
   "source": [
    "# Compression using the difference image, the DCT, quantization with psychovisaul matrices runlength and entropic coding"
   ]
  },
  {
   "cell_type": "code",
   "execution_count": null,
   "metadata": {
    "jupyter": {
     "source_hidden": true
    }
   },
   "outputs": [],
   "source": [
    "nb_diff_frame = 1\n",
    "offset_seq = [128,0]\n",
    "\n",
    "for fname in videos_names[1:2]:\n",
    "    frames = read_qcif(fname)\n",
    "    nb_frames = len(frames)\n",
    "    \n",
    "    diff = Difference_image_compute(frames, nb_diff_frame)\n",
    "    dct = DCT_compute(diff,Q='opti',offset=offset_seq)\n",
    "    decompressed_diff = DCT_inverse(dct,offset=offset_seq)\n",
    "    decompressed_data = Difference_image_reverse(decompressed_diff,nb_diff_frame)\n",
    "    save_qcif(\"test_res_diffdct.qcif\",decompressed_data)\n",
    "    print()\n",
    "    print(\"#--------------------------------------#\")\n",
    "    print(\"Diff+DCT+quantization+runlength on \"+fname)\n",
    "    print(\"Original size (MiB): \", frames.size/1024**2)\n",
    "    print(\"Compressed size (%): \", dct.size/frames.size*100)\n",
    "    quality_benchmark(frames,decompressed_data)\n",
    "    print()\n",
    "    print(\"#--------------------------------------#\")\n",
    "    print(\"Diff+DCT+quantization+runlength+LZW on \"+fname)\n",
    "    bitstream = LZW_encode(np.array(dct.flatten()))\n",
    "    decompressed_dct  = LZW_decode(bitstream)\n",
    "    decompressed_diff = DCT_inverse(decompressed_dct,offset=offset_seq).reshape(nb_frames,-1)\n",
    "    decompressed_data = Difference_image_reverse(decompressed_diff,nb_diff_frame)\n",
    "    compression_benchmark(frames,bitstream)\n",
    "    print()\n",
    "    print(\"#--------------------------------------#\")\n",
    "    print(\"Diff+DCT+quantization+runlength+Huffman on \"+fname)\n",
    "    bitstream = Huffman_encode(np.array(dct.flatten()))\n",
    "    decompressed_dct = Huffman_decode(bitstream)\n",
    "    decompressed_diff = DCT_inverse(decompressed_dct,offset=offset_seq).reshape(nb_frames,-1)\n",
    "    decompressed_data = Difference_image_reverse(decompressed_diff,nb_diff_frame)\n",
    "    compression_benchmark(frames,bitstream)\n",
    "    print(\"\\n\\n\")"
   ]
  },
  {
   "cell_type": "markdown",
   "metadata": {},
   "source": [
    "# Compression using motion estimation, DCT, quantization with psychovisal, matrices runlength and entropic coding"
   ]
  },
  {
   "cell_type": "code",
   "execution_count": 2,
   "metadata": {
    "collapsed": true,
    "jupyter": {
     "outputs_hidden": true
    }
   },
   "outputs": [
    {
     "name": "stdout",
     "output_type": "stream",
     "text": [
      "(18013,)\n",
      "(17617,)\n",
      "[  0  -1   4   1   4  -1   0   1   0   0 118   0   1   0   2   0   1   1\n",
      "  -1   1]\n",
      "####\n",
      "[  0  -1   4   1   4  -1   0   1   0   0 118   0   1   0   2   0   1   1\n",
      "  -1   1]\n",
      "(17880,)\n",
      "Error DCT_inverse: inconsistente number of 8x8 blocks, last frame countain 588 blocks\n",
      "(17508,)\n"
     ]
    },
    {
     "ename": "IndexError",
     "evalue": "index 64 is out of bounds for axis 0 with size 64",
     "output_type": "error",
     "traceback": [
      "\u001b[0;31m---------------------------------------------------------------------------\u001b[0m",
      "\u001b[0;31mIndexError\u001b[0m                                Traceback (most recent call last)",
      "\u001b[0;32m<ipython-input-2-d67197f3333e>\u001b[0m in \u001b[0;36m<module>\u001b[0;34m\u001b[0m\n\u001b[1;32m      4\u001b[0m \u001b[0;34m\u001b[0m\u001b[0m\n\u001b[1;32m      5\u001b[0m     \u001b[0msymbols\u001b[0m \u001b[0;34m=\u001b[0m \u001b[0mMotion_estimate_compute\u001b[0m\u001b[0;34m(\u001b[0m\u001b[0mframes\u001b[0m\u001b[0;34m)\u001b[0m\u001b[0;34m\u001b[0m\u001b[0;34m\u001b[0m\u001b[0m\n\u001b[0;32m----> 6\u001b[0;31m     \u001b[0mdecompressed_data\u001b[0m \u001b[0;34m=\u001b[0m \u001b[0mMotion_estimate_inverse\u001b[0m\u001b[0;34m(\u001b[0m\u001b[0msymbols\u001b[0m\u001b[0;34m)\u001b[0m\u001b[0;34m\u001b[0m\u001b[0;34m\u001b[0m\u001b[0m\n\u001b[0m\u001b[1;32m      7\u001b[0m     \u001b[0msave_qcif\u001b[0m\u001b[0;34m(\u001b[0m\u001b[0;34m\"test_res_diff.qcif\"\u001b[0m\u001b[0;34m,\u001b[0m\u001b[0mdecompressed_data\u001b[0m\u001b[0;34m)\u001b[0m\u001b[0;34m\u001b[0m\u001b[0;34m\u001b[0m\u001b[0m\n\u001b[1;32m      8\u001b[0m     \u001b[0mprint\u001b[0m\u001b[0;34m(\u001b[0m\u001b[0;34m)\u001b[0m\u001b[0;34m\u001b[0m\u001b[0;34m\u001b[0m\u001b[0m\n",
      "\u001b[0;32m~/Documents/Cours/MCE/Data compression/Projet/repo git/data_compression/Motion_estimation.py\u001b[0m in \u001b[0;36mMotion_estimate_inverse\u001b[0;34m(symbols_stream, block_size)\u001b[0m\n\u001b[1;32m    286\u001b[0m         \u001b[0mprint\u001b[0m\u001b[0;34m(\u001b[0m\u001b[0msymbols_stream\u001b[0m\u001b[0;34m[\u001b[0m\u001b[0mframe_start_id\u001b[0m\u001b[0;34m:\u001b[0m\u001b[0mframe_end_id\u001b[0m\u001b[0;34m]\u001b[0m\u001b[0;34m.\u001b[0m\u001b[0mshape\u001b[0m\u001b[0;34m)\u001b[0m\u001b[0;34m\u001b[0m\u001b[0;34m\u001b[0m\u001b[0m\n\u001b[1;32m    287\u001b[0m         I_tp1 = DCT_inverse(symbols_stream[frame_start_id:frame_end_id],\n\u001b[0;32m--> 288\u001b[0;31m                             offset=128)\n\u001b[0m\u001b[1;32m    289\u001b[0m         \u001b[0mframe_start_id\u001b[0m \u001b[0;34m=\u001b[0m \u001b[0mframe_end_id\u001b[0m\u001b[0;34m\u001b[0m\u001b[0;34m\u001b[0m\u001b[0m\n\u001b[1;32m    290\u001b[0m \u001b[0;34m\u001b[0m\u001b[0m\n",
      "\u001b[0;32m~/Documents/Cours/MCE/Data compression/Projet/repo git/data_compression/DCT.py\u001b[0m in \u001b[0;36mDCT_inverse\u001b[0;34m(data_uv, offset)\u001b[0m\n\u001b[1;32m    187\u001b[0m             \u001b[0mblock_end_id_prev\u001b[0m \u001b[0;34m=\u001b[0m \u001b[0mblock_end_id\u001b[0m\u001b[0;34m\u001b[0m\u001b[0;34m\u001b[0m\u001b[0m\n\u001b[1;32m    188\u001b[0m             \u001b[0mencoded_uv\u001b[0m \u001b[0;34m=\u001b[0m \u001b[0mdata_uv\u001b[0m\u001b[0;34m[\u001b[0m\u001b[0mblock_start_id\u001b[0m\u001b[0;34m:\u001b[0m\u001b[0mblock_end_id\u001b[0m\u001b[0;34m]\u001b[0m\u001b[0;34m\u001b[0m\u001b[0;34m\u001b[0m\u001b[0m\n\u001b[0;32m--> 189\u001b[0;31m             \u001b[0mquantized_vector\u001b[0m \u001b[0;34m=\u001b[0m \u001b[0mRunlength_decode\u001b[0m\u001b[0;34m(\u001b[0m\u001b[0mencoded_uv\u001b[0m\u001b[0;34m)\u001b[0m\u001b[0;34m\u001b[0m\u001b[0;34m\u001b[0m\u001b[0m\n\u001b[0m\u001b[1;32m    190\u001b[0m             \u001b[0mquantized_block\u001b[0m  \u001b[0;34m=\u001b[0m \u001b[0mquantized_vector\u001b[0m\u001b[0;34m[\u001b[0m\u001b[0mdiag_reading\u001b[0m\u001b[0;34m]\u001b[0m\u001b[0;34m.\u001b[0m\u001b[0mreshape\u001b[0m\u001b[0;34m(\u001b[0m\u001b[0;34m(\u001b[0m\u001b[0;36m8\u001b[0m\u001b[0;34m,\u001b[0m\u001b[0;36m8\u001b[0m\u001b[0;34m)\u001b[0m\u001b[0;34m)\u001b[0m\u001b[0;34m\u001b[0m\u001b[0;34m\u001b[0m\u001b[0m\n\u001b[1;32m    191\u001b[0m \u001b[0;34m\u001b[0m\u001b[0m\n",
      "\u001b[0;32m~/Documents/Cours/MCE/Data compression/Projet/repo git/data_compression/DCT.py\u001b[0m in \u001b[0;36mRunlength_decode\u001b[0;34m(data)\u001b[0m\n\u001b[1;32m    291\u001b[0m         \u001b[0mnb_zeros\u001b[0m\u001b[0;34m,\u001b[0m\u001b[0mvalue\u001b[0m \u001b[0;34m=\u001b[0m \u001b[0mdata\u001b[0m\u001b[0;34m[\u001b[0m\u001b[0mk\u001b[0m\u001b[0;34m]\u001b[0m\u001b[0;34m,\u001b[0m\u001b[0mdata\u001b[0m\u001b[0;34m[\u001b[0m\u001b[0mk\u001b[0m\u001b[0;34m+\u001b[0m\u001b[0;36m1\u001b[0m\u001b[0;34m]\u001b[0m\u001b[0;34m\u001b[0m\u001b[0;34m\u001b[0m\u001b[0m\n\u001b[1;32m    292\u001b[0m         \u001b[0mcurrent_pos\u001b[0m\u001b[0;34m+=\u001b[0m\u001b[0mnb_zeros\u001b[0m\u001b[0;34m\u001b[0m\u001b[0;34m\u001b[0m\u001b[0m\n\u001b[0;32m--> 293\u001b[0;31m         \u001b[0mres\u001b[0m\u001b[0;34m[\u001b[0m\u001b[0mcurrent_pos\u001b[0m\u001b[0;34m]\u001b[0m\u001b[0;34m=\u001b[0m\u001b[0mvalue\u001b[0m\u001b[0;34m\u001b[0m\u001b[0;34m\u001b[0m\u001b[0m\n\u001b[0m\u001b[1;32m    294\u001b[0m         \u001b[0mcurrent_pos\u001b[0m\u001b[0;34m+=\u001b[0m\u001b[0;36m1\u001b[0m\u001b[0;34m\u001b[0m\u001b[0;34m\u001b[0m\u001b[0m\n\u001b[1;32m    295\u001b[0m     \u001b[0;32mreturn\u001b[0m \u001b[0mnp\u001b[0m\u001b[0;34m.\u001b[0m\u001b[0marray\u001b[0m\u001b[0;34m(\u001b[0m\u001b[0mres\u001b[0m\u001b[0;34m)\u001b[0m\u001b[0;34m\u001b[0m\u001b[0;34m\u001b[0m\u001b[0m\n",
      "\u001b[0;31mIndexError\u001b[0m: index 64 is out of bounds for axis 0 with size 64"
     ]
    }
   ],
   "source": [
    "for fname in videos_names[1:2]:\n",
    "    frames = read_qcif(fname,2)\n",
    "    nb_frames = len(frames)\n",
    "    \n",
    "    symbols = Motion_estimate_compute(frames)\n",
    "    decompressed_data = Motion_estimate_inverse(symbols)\n",
    "    save_qcif(\"test_res_diff.qcif\",decompressed_data)\n",
    "    print()\n",
    "    print(\"#--------------------------------------#\")\n",
    "    print(\"Diff on \"+fname)\n",
    "    quality_benchmark(frames,decompressed_data)\n",
    "    print()\n",
    "    print(\"#--------------------------------------#\")\n",
    "    print(\"Diff+LZW on \"+fname)\n",
    "    bitstream = LZW_encode(diff.flatten())\n",
    "    decompressed_diff = LZW_decode(bitstream)\n",
    "    decompressed_data = Difference_image_reverse(np.array(decompressed_diff,dtype=float).reshape(nb_frames,-1),5)\n",
    "    compression_benchmark(frames,bitstream)\n",
    "    print()\n",
    "    print(\"#--------------------------------------#\")\n",
    "    print(\"Diff+Huffman on \"+fname)\n",
    "    bitstream = Huffman_encode(diff.flatten())\n",
    "    decompressed_diff = Huffman_decode(bitstream)\n",
    "    decompressed_data = Difference_image_reverse(np.array(decompressed_diff,dtype=float).reshape(nb_frames,-1),5)\n",
    "    compression_benchmark(frames,bitstream)\n",
    "    print(\"\\n\\n\")"
   ]
  },
  {
   "cell_type": "code",
   "execution_count": null,
   "metadata": {},
   "outputs": [],
   "source": [
    "if False:\n",
    "    image_id = 2 # Random image from the video\n",
    "    sep1 = height*width\n",
    "    sep2 = sep1+height//2*width//2\n",
    "\n",
    "\n",
    "    original_img     = frames[image_id][:sep1].reshape(height,width)\n",
    "    decompressed_img = decompressed_data[image_id,:sep1].reshape(height,width)\n",
    "\n",
    "    plt.figure(figsize=(20,10))\n",
    "    plt.subplot(1,2,1)\n",
    "    plt.imshow(original_img)\n",
    "    plt.colorbar()\n",
    "    plt.title(\"Original\")\n",
    "    plt.subplot(1,2,2)\n",
    "    plt.imshow(decompressed_img)\n",
    "    plt.colorbar()\n",
    "    plt.title(\"Comp/decomp image\")\n",
    "    plt.show()\n",
    "\n",
    "    original_img     = frames[image_id][sep1:sep2].reshape(height//2,width//2)\n",
    "    decompressed_img = decompressed_data[image_id,sep1:sep2].reshape(height//2,width//2)\n",
    "\n",
    "    plt.figure(figsize=(20,10))\n",
    "    plt.subplot(1,2,1)\n",
    "    plt.imshow(original_img)\n",
    "    plt.colorbar()\n",
    "    plt.title(\"Original\")\n",
    "    plt.subplot(1,2,2)\n",
    "    plt.imshow(decompressed_img)\n",
    "    plt.colorbar()\n",
    "    plt.title(\"Comp/decomp image\")\n",
    "    plt.show()\n",
    "\n",
    "    original_img     = frames[image_id][sep2:].reshape(height//2,width//2)\n",
    "    decompressed_img = decompressed_data[image_id,sep2:].reshape(height//2,width//2)\n",
    "\n",
    "    plt.figure(figsize=(20,10))\n",
    "    plt.subplot(1,2,1)\n",
    "    plt.imshow(original_img)\n",
    "    plt.colorbar()\n",
    "    plt.title(\"Original\")\n",
    "    plt.subplot(1,2,2)\n",
    "    plt.imshow(decompressed_img)\n",
    "    plt.colorbar()\n",
    "    plt.title(\"Comp/decomp image\")\n",
    "    plt.show()"
   ]
  },
  {
   "cell_type": "code",
   "execution_count": null,
   "metadata": {},
   "outputs": [],
   "source": []
  }
 ],
 "metadata": {
  "kernelspec": {
   "display_name": "Python 3",
   "language": "python",
   "name": "python3"
  },
  "language_info": {
   "codemirror_mode": {
    "name": "ipython",
    "version": 3
   },
   "file_extension": ".py",
   "mimetype": "text/x-python",
   "name": "python",
   "nbconvert_exporter": "python",
   "pygments_lexer": "ipython3",
   "version": "3.7.9"
  }
 },
 "nbformat": 4,
 "nbformat_minor": 4
}
